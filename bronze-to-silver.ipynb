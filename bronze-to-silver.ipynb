{
 "cells": [
  {
   "cell_type": "code",
   "execution_count": 0,
   "metadata": {
    "application/vnd.databricks.v1+cell": {
     "cellMetadata": {
      "byteLimit": 2048000,
      "rowLimit": 10000
     },
     "inputWidgets": {},
     "nuid": "d7c62316-35ea-49bb-ae1f-62fb319c1fc2",
     "showTitle": false,
     "title": ""
    }
   },
   "outputs": [
    {
     "output_type": "execute_result",
     "data": {
      "text/plain": [
       "[FileInfo(path='dbfs:/mnt/bronze/premData/data_10d81911-a69f-4433-a15a-b6e1d4c20a2d_e996d02e-6f33-4b23-a45b-e1256509034f.parquet', name='data_10d81911-a69f-4433-a15a-b6e1d4c20a2d_e996d02e-6f33-4b23-a45b-e1256509034f.parquet', size=1064, modificationTime=1703671193000),\n",
       " FileInfo(path='dbfs:/mnt/bronze/premData/data_b9f74cd3-7766-43a5-8e10-156fa4e45da7_33491638-45f7-4214-800f-389216c18b2b.parquet', name='data_b9f74cd3-7766-43a5-8e10-156fa4e45da7_33491638-45f7-4214-800f-389216c18b2b.parquet', size=1650, modificationTime=1703671193000)]"
      ]
     },
     "execution_count": 1,
     "metadata": {},
     "output_type": "execute_result"
    }
   ],
   "source": [
    "dbutils.fs.ls('/mnt/bronze/premData')"
   ]
  },
  {
   "cell_type": "code",
   "execution_count": 0,
   "metadata": {
    "application/vnd.databricks.v1+cell": {
     "cellMetadata": {
      "byteLimit": 2048000,
      "rowLimit": 10000
     },
     "inputWidgets": {},
     "nuid": "69f4d70b-082d-46fa-9afa-18a6528a398b",
     "showTitle": false,
     "title": ""
    }
   },
   "outputs": [
    {
     "output_type": "execute_result",
     "data": {
      "text/plain": [
       "[]"
      ]
     },
     "execution_count": 2,
     "metadata": {},
     "output_type": "execute_result"
    }
   ],
   "source": [
    "dbutils.fs.ls('/mnt/silver')"
   ]
  },
  {
   "cell_type": "code",
   "execution_count": 0,
   "metadata": {
    "application/vnd.databricks.v1+cell": {
     "cellMetadata": {
      "byteLimit": 2048000,
      "rowLimit": 10000
     },
     "inputWidgets": {},
     "nuid": "ea84a060-9a73-49f5-a8dc-4aa79120a0be",
     "showTitle": false,
     "title": ""
    }
   },
   "outputs": [],
   "source": [
    "input_path = '/mnt/bronze/premData/data_10d81911-a69f-4433-a15a-b6e1d4c20a2d_e996d02e-6f33-4b23-a45b-e1256509034f.parquet'"
   ]
  },
  {
   "cell_type": "code",
   "execution_count": 0,
   "metadata": {
    "application/vnd.databricks.v1+cell": {
     "cellMetadata": {
      "byteLimit": 2048000,
      "rowLimit": 10000
     },
     "inputWidgets": {},
     "nuid": "2acb3275-553f-4e8f-9eaa-adb74a935ab7",
     "showTitle": false,
     "title": ""
    }
   },
   "outputs": [],
   "source": [
    "df = spark.read.format('parquet').load(input_path)"
   ]
  },
  {
   "cell_type": "code",
   "execution_count": 0,
   "metadata": {
    "application/vnd.databricks.v1+cell": {
     "cellMetadata": {
      "byteLimit": 2048000,
      "rowLimit": 10000
     },
     "inputWidgets": {},
     "nuid": "2b36816a-7928-4dcd-b179-d130b11aa5bc",
     "showTitle": false,
     "title": ""
    }
   },
   "outputs": [
    {
     "output_type": "display_data",
     "data": {
      "text/html": [
       "<style scoped>\n",
       "  .table-result-container {\n",
       "    max-height: 300px;\n",
       "    overflow: auto;\n",
       "  }\n",
       "  table, th, td {\n",
       "    border: 1px solid black;\n",
       "    border-collapse: collapse;\n",
       "  }\n",
       "  th, td {\n",
       "    padding: 5px;\n",
       "  }\n",
       "  th {\n",
       "    text-align: left;\n",
       "  }\n",
       "</style><div class='table-result-container'><table class='table-result'><thead style='background-color: white'><tr><th>user_id</th><th>username</th><th>email</th><th>birthdate</th><th>registration_date</th></tr></thead><tbody><tr><td>1</td><td>JohnDoe</td><td>john.doe@example.com</td><td>1990-05-15T00:00:00Z</td><td>2023-12-27T12:35:07Z</td></tr><tr><td>2</td><td>JaneSmith</td><td>jane.smith@example.com</td><td>1985-08-22T00:00:00Z</td><td>2023-12-27T12:35:07Z</td></tr><tr><td>3</td><td>BobJohnson</td><td>bob.johnson@example.com</td><td>1995-02-10T00:00:00Z</td><td>2023-12-27T12:35:07Z</td></tr></tbody></table></div>"
      ]
     },
     "metadata": {
      "application/vnd.databricks.v1+output": {
       "addedWidgets": {},
       "aggData": [],
       "aggError": "",
       "aggOverflow": false,
       "aggSchema": [],
       "aggSeriesLimitReached": false,
       "aggType": "",
       "arguments": {},
       "columnCustomDisplayInfos": {},
       "data": [
        [
         1,
         "JohnDoe",
         "john.doe@example.com",
         "1990-05-15T00:00:00Z",
         "2023-12-27T12:35:07Z"
        ],
        [
         2,
         "JaneSmith",
         "jane.smith@example.com",
         "1985-08-22T00:00:00Z",
         "2023-12-27T12:35:07Z"
        ],
        [
         3,
         "BobJohnson",
         "bob.johnson@example.com",
         "1995-02-10T00:00:00Z",
         "2023-12-27T12:35:07Z"
        ]
       ],
       "datasetInfos": [],
       "dbfsResultPath": null,
       "isJsonSchema": true,
       "metadata": {},
       "overflow": false,
       "plotOptions": {
        "customPlotOptions": {},
        "displayType": "table",
        "pivotAggregation": null,
        "pivotColumns": null,
        "xColumns": null,
        "yColumns": null
       },
       "removedWidgets": [],
       "schema": [
        {
         "metadata": "{}",
         "name": "user_id",
         "type": "\"integer\""
        },
        {
         "metadata": "{}",
         "name": "username",
         "type": "\"string\""
        },
        {
         "metadata": "{}",
         "name": "email",
         "type": "\"string\""
        },
        {
         "metadata": "{}",
         "name": "birthdate",
         "type": "\"timestamp\""
        },
        {
         "metadata": "{}",
         "name": "registration_date",
         "type": "\"timestamp\""
        }
       ],
       "type": "table"
      }
     },
     "output_type": "display_data"
    }
   ],
   "source": [
    "display(df)"
   ]
  },
  {
   "cell_type": "code",
   "execution_count": 0,
   "metadata": {
    "application/vnd.databricks.v1+cell": {
     "cellMetadata": {
      "byteLimit": 2048000,
      "rowLimit": 10000
     },
     "inputWidgets": {},
     "nuid": "d9744079-ca09-4714-a951-720d75e7be23",
     "showTitle": false,
     "title": ""
    }
   },
   "outputs": [],
   "source": [
    "from pyspark.sql.functions import from_utc_timestamp, date_format\n",
    "from pyspark.sql.types import TimestampType\n",
    "\n",
    "\n",
    "df = df.withColumn(\"birthdate\", date_format(from_utc_timestamp(df[\"birthdate\"].cast(TimestampType()), \"UTC\"), \"yyyy-MM-dd\"))\n",
    "df = df.withColumn(\"registration_date\", date_format(from_utc_timestamp(df[\"registration_date\"].cast(TimestampType()), \"UTC\"), \"yyyy-MM-dd\"))\n"
   ]
  },
  {
   "cell_type": "code",
   "execution_count": 0,
   "metadata": {
    "application/vnd.databricks.v1+cell": {
     "cellMetadata": {
      "byteLimit": 2048000,
      "rowLimit": 10000
     },
     "inputWidgets": {},
     "nuid": "b87ed415-82a7-4f08-958c-c80cbecf7323",
     "showTitle": false,
     "title": ""
    }
   },
   "outputs": [
    {
     "output_type": "display_data",
     "data": {
      "text/html": [
       "<style scoped>\n",
       "  .table-result-container {\n",
       "    max-height: 300px;\n",
       "    overflow: auto;\n",
       "  }\n",
       "  table, th, td {\n",
       "    border: 1px solid black;\n",
       "    border-collapse: collapse;\n",
       "  }\n",
       "  th, td {\n",
       "    padding: 5px;\n",
       "  }\n",
       "  th {\n",
       "    text-align: left;\n",
       "  }\n",
       "</style><div class='table-result-container'><table class='table-result'><thead style='background-color: white'><tr><th>user_id</th><th>username</th><th>email</th><th>birthdate</th><th>registration_date</th></tr></thead><tbody><tr><td>1</td><td>JohnDoe</td><td>john.doe@example.com</td><td>1990-05-15</td><td>2023-12-27</td></tr><tr><td>2</td><td>JaneSmith</td><td>jane.smith@example.com</td><td>1985-08-22</td><td>2023-12-27</td></tr><tr><td>3</td><td>BobJohnson</td><td>bob.johnson@example.com</td><td>1995-02-10</td><td>2023-12-27</td></tr></tbody></table></div>"
      ]
     },
     "metadata": {
      "application/vnd.databricks.v1+output": {
       "addedWidgets": {},
       "aggData": [],
       "aggError": "",
       "aggOverflow": false,
       "aggSchema": [],
       "aggSeriesLimitReached": false,
       "aggType": "",
       "arguments": {},
       "columnCustomDisplayInfos": {},
       "data": [
        [
         1,
         "JohnDoe",
         "john.doe@example.com",
         "1990-05-15",
         "2023-12-27"
        ],
        [
         2,
         "JaneSmith",
         "jane.smith@example.com",
         "1985-08-22",
         "2023-12-27"
        ],
        [
         3,
         "BobJohnson",
         "bob.johnson@example.com",
         "1995-02-10",
         "2023-12-27"
        ]
       ],
       "datasetInfos": [],
       "dbfsResultPath": null,
       "isJsonSchema": true,
       "metadata": {},
       "overflow": false,
       "plotOptions": {
        "customPlotOptions": {},
        "displayType": "table",
        "pivotAggregation": null,
        "pivotColumns": null,
        "xColumns": null,
        "yColumns": null
       },
       "removedWidgets": [],
       "schema": [
        {
         "metadata": "{}",
         "name": "user_id",
         "type": "\"integer\""
        },
        {
         "metadata": "{}",
         "name": "username",
         "type": "\"string\""
        },
        {
         "metadata": "{}",
         "name": "email",
         "type": "\"string\""
        },
        {
         "metadata": "{}",
         "name": "birthdate",
         "type": "\"string\""
        },
        {
         "metadata": "{}",
         "name": "registration_date",
         "type": "\"string\""
        }
       ],
       "type": "table"
      }
     },
     "output_type": "display_data"
    }
   ],
   "source": [
    "display(df)"
   ]
  },
  {
   "cell_type": "markdown",
   "metadata": {
    "application/vnd.databricks.v1+cell": {
     "cellMetadata": {},
     "inputWidgets": {},
     "nuid": "80448054-cc52-48ba-9a8f-31b9099dceab",
     "showTitle": false,
     "title": ""
    }
   },
   "source": [
    "Transformation for other table"
   ]
  },
  {
   "cell_type": "code",
   "execution_count": 0,
   "metadata": {
    "application/vnd.databricks.v1+cell": {
     "cellMetadata": {
      "byteLimit": 2048000,
      "rowLimit": 10000
     },
     "inputWidgets": {},
     "nuid": "3f004802-8642-4a91-9e96-732b909b0249",
     "showTitle": false,
     "title": ""
    }
   },
   "outputs": [],
   "source": [
    "table_name=[]\n",
    "for i in dbutils.fs.ls('/mnt/bronze/premData'):\n",
    "    table_name.append(i.name.split('/')[0])"
   ]
  },
  {
   "cell_type": "code",
   "execution_count": 0,
   "metadata": {
    "application/vnd.databricks.v1+cell": {
     "cellMetadata": {
      "byteLimit": 2048000,
      "rowLimit": 10000
     },
     "inputWidgets": {},
     "nuid": "ba6fe084-c677-4efd-b9e3-5570f6ed24c3",
     "showTitle": false,
     "title": ""
    }
   },
   "outputs": [
    {
     "output_type": "execute_result",
     "data": {
      "text/plain": [
       "['data_10d81911-a69f-4433-a15a-b6e1d4c20a2d_e996d02e-6f33-4b23-a45b-e1256509034f.parquet',\n",
       " 'data_b9f74cd3-7766-43a5-8e10-156fa4e45da7_33491638-45f7-4214-800f-389216c18b2b.parquet']"
      ]
     },
     "execution_count": 13,
     "metadata": {},
     "output_type": "execute_result"
    }
   ],
   "source": [
    "table_name"
   ]
  },
  {
   "cell_type": "code",
   "execution_count": 0,
   "metadata": {
    "application/vnd.databricks.v1+cell": {
     "cellMetadata": {
      "byteLimit": 2048000,
      "rowLimit": 10000
     },
     "inputWidgets": {},
     "nuid": "822c9832-6940-409e-b385-7363e756b1e4",
     "showTitle": false,
     "title": ""
    }
   },
   "outputs": [
    {
     "output_type": "stream",
     "name": "stdout",
     "output_type": "stream",
     "text": [
      "Transformed DataFrame for table data_10d81911-a69f-4433-a15a-b6e1d4c20a2d_e996d02e-6f33-4b23-a45b-e1256509034f.parquet:\n+-------+----------+--------------------+----------+-----------------+\n|user_id|  username|               email| birthdate|registration_date|\n+-------+----------+--------------------+----------+-----------------+\n|      1|   JohnDoe|john.doe@example.com|2023-12-27|       2023-12-27|\n|      2| JaneSmith|jane.smith@exampl...|2023-12-27|       2023-12-27|\n|      3|BobJohnson|bob.johnson@examp...|2023-12-27|       2023-12-27|\n+-------+----------+--------------------+----------+-----------------+\n\nTransformed DataFrame for table data_b9f74cd3-7766-43a5-8e10-156fa4e45da7_33491638-45f7-4214-800f-389216c18b2b.parquet:\n+-------+----------+--------------------+----------+-----------------+\n|user_id|  username|               email| birthdate|registration_date|\n+-------+----------+--------------------+----------+-----------------+\n|      1|   JohnDoe|john.doe@example.com|2023-12-27|       2023-12-27|\n|      2| JaneSmith|jane.smith@exampl...|2023-12-27|       2023-12-27|\n|      3|BobJohnson|bob.johnson@examp...|2023-12-27|       2023-12-27|\n+-------+----------+--------------------+----------+-----------------+\n\n"
     ]
    }
   ],
   "source": [
    "from pyspark.sql.functions import from_utc_timestamp, date_format\n",
    "from pyspark.sql.types import TimestampType\n",
    "\n",
    "for i in table_name:\n",
    "    path = '/mnt/bronze/premData' + i + '/' + '.parquet'\n",
    "    column =df.columns\n",
    "    \n",
    "    for col in column:\n",
    "        if \"Date\" in col or \"date\" in col:\n",
    "            df = df.withColumn(col, date_format(from_utc_timestamp(df[col].cast(TimestampType()), \"UTC\"), \"yyyy-MM-dd\"))\n",
    "    print(f\"Transformed DataFrame for table {i}:\")\n",
    "    df.show()\n",
    "    output_path = '/mnt/silver/premData/' +i +'/'\n",
    "    df.write.format('delta').mode(\"overwrite\").save(output_path)"
   ]
  },
  {
   "cell_type": "code",
   "execution_count": 0,
   "metadata": {
    "application/vnd.databricks.v1+cell": {
     "cellMetadata": {
      "byteLimit": 2048000,
      "rowLimit": 10000
     },
     "inputWidgets": {},
     "nuid": "67a81c76-4629-48e1-9dda-ec1fb363b0f4",
     "showTitle": false,
     "title": ""
    }
   },
   "outputs": [
    {
     "output_type": "display_data",
     "data": {
      "text/plain": [
       "'data_b9f74cd3-7766-43a5-8e10-156fa4e45da7_33491638-45f7-4214-800f-389216c18b2b.parquet'"
      ]
     },
     "metadata": {},
     "output_type": "display_data"
    }
   ],
   "source": [
    "display(table_name[1])"
   ]
  }
 ],
 "metadata": {
  "application/vnd.databricks.v1+notebook": {
   "dashboards": [],
   "language": "python",
   "notebookMetadata": {
    "pythonIndentUnit": 4
   },
   "notebookName": "bronze-to-silver",
   "widgets": {}
  }
 },
 "nbformat": 4,
 "nbformat_minor": 0
}

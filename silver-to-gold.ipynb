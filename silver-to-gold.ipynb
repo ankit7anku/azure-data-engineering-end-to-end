{
 "cells": [
  {
   "cell_type": "code",
   "execution_count": 0,
   "metadata": {
    "application/vnd.databricks.v1+cell": {
     "cellMetadata": {
      "byteLimit": 2048000,
      "rowLimit": 10000
     },
     "inputWidgets": {},
     "nuid": "37a56353-867a-4dce-84be-236aa5b5957f",
     "showTitle": false,
     "title": ""
    }
   },
   "outputs": [
    {
     "output_type": "execute_result",
     "data": {
      "text/plain": [
       "[FileInfo(path='dbfs:/mnt/silver/premData/data_10d81911-a69f-4433-a15a-b6e1d4c20a2d_e996d02e-6f33-4b23-a45b-e1256509034f.parquet/', name='data_10d81911-a69f-4433-a15a-b6e1d4c20a2d_e996d02e-6f33-4b23-a45b-e1256509034f.parquet/', size=0, modificationTime=1703675660000),\n",
       " FileInfo(path='dbfs:/mnt/silver/premData/data_b9f74cd3-7766-43a5-8e10-156fa4e45da7_33491638-45f7-4214-800f-389216c18b2b.parquet/', name='data_b9f74cd3-7766-43a5-8e10-156fa4e45da7_33491638-45f7-4214-800f-389216c18b2b.parquet/', size=0, modificationTime=1703675670000)]"
      ]
     },
     "execution_count": 1,
     "metadata": {},
     "output_type": "execute_result"
    }
   ],
   "source": [
    "dbutils.fs.ls('/mnt/silver/premData')"
   ]
  },
  {
   "cell_type": "code",
   "execution_count": 0,
   "metadata": {
    "application/vnd.databricks.v1+cell": {
     "cellMetadata": {
      "byteLimit": 2048000,
      "rowLimit": 10000
     },
     "inputWidgets": {},
     "nuid": "fc15f00d-c230-46e6-bc86-7b8059b195ff",
     "showTitle": false,
     "title": ""
    }
   },
   "outputs": [
    {
     "output_type": "execute_result",
     "data": {
      "text/plain": [
       "[]"
      ]
     },
     "execution_count": 2,
     "metadata": {},
     "output_type": "execute_result"
    }
   ],
   "source": [
    "dbutils.fs.ls('/mnt/gold')"
   ]
  },
  {
   "cell_type": "code",
   "execution_count": 0,
   "metadata": {
    "application/vnd.databricks.v1+cell": {
     "cellMetadata": {
      "byteLimit": 2048000,
      "rowLimit": 10000
     },
     "inputWidgets": {},
     "nuid": "ac604d3d-d77b-4613-96af-4ec5de55943b",
     "showTitle": false,
     "title": ""
    }
   },
   "outputs": [],
   "source": [
    "input_path = '/mnt/silver/premData/data_10d81911-a69f-4433-a15a-b6e1d4c20a2d_e996d02e-6f33-4b23-a45b-e1256509034f.parquet'"
   ]
  },
  {
   "cell_type": "code",
   "execution_count": 0,
   "metadata": {
    "application/vnd.databricks.v1+cell": {
     "cellMetadata": {
      "byteLimit": 2048000,
      "rowLimit": 10000
     },
     "inputWidgets": {},
     "nuid": "1346fb0f-4372-496e-8955-18a6321ce91c",
     "showTitle": false,
     "title": ""
    }
   },
   "outputs": [],
   "source": [
    "df = spark.read.format('delta').load(input_path)"
   ]
  },
  {
   "cell_type": "code",
   "execution_count": 0,
   "metadata": {
    "application/vnd.databricks.v1+cell": {
     "cellMetadata": {
      "byteLimit": 2048000,
      "rowLimit": 10000
     },
     "inputWidgets": {},
     "nuid": "d1519a10-5fe0-4f94-ae03-da0cca531d2f",
     "showTitle": false,
     "title": ""
    }
   },
   "outputs": [],
   "source": [
    "from pyspark.sql import SparkSession\n",
    "from pyspark.sql.functions import col, regexp_replace\n",
    "\n",
    "# Assuming df is your DataFrame\n",
    "column_names = df.columns\n",
    "\n",
    "for old_col_name in column_names:\n",
    "    new_col_name = \"\".join([\"_\" + char if char.isupper() and not old_col_name[i - 1].isupper() else char for i, char in enumerate(old_col_name)]).lstrip(\"_\")\n",
    "    df = df.withColumnRenamed(old_col_name, new_col_name)\n"
   ]
  },
  {
   "cell_type": "code",
   "execution_count": 0,
   "metadata": {
    "application/vnd.databricks.v1+cell": {
     "cellMetadata": {
      "byteLimit": 2048000,
      "rowLimit": 10000
     },
     "inputWidgets": {},
     "nuid": "f666b069-2ec1-4c1d-813c-38e738d5dd4c",
     "showTitle": false,
     "title": ""
    }
   },
   "outputs": [
    {
     "output_type": "display_data",
     "data": {
      "text/html": [
       "<style scoped>\n",
       "  .table-result-container {\n",
       "    max-height: 300px;\n",
       "    overflow: auto;\n",
       "  }\n",
       "  table, th, td {\n",
       "    border: 1px solid black;\n",
       "    border-collapse: collapse;\n",
       "  }\n",
       "  th, td {\n",
       "    padding: 5px;\n",
       "  }\n",
       "  th {\n",
       "    text-align: left;\n",
       "  }\n",
       "</style><div class='table-result-container'><table class='table-result'><thead style='background-color: white'><tr><th>user_id</th><th>username</th><th>email</th><th>birthdate</th><th>registration_date</th></tr></thead><tbody><tr><td>1</td><td>JohnDoe</td><td>john.doe@example.com</td><td>2023-12-27</td><td>2023-12-27</td></tr><tr><td>2</td><td>JaneSmith</td><td>jane.smith@example.com</td><td>2023-12-27</td><td>2023-12-27</td></tr><tr><td>3</td><td>BobJohnson</td><td>bob.johnson@example.com</td><td>2023-12-27</td><td>2023-12-27</td></tr></tbody></table></div>"
      ]
     },
     "metadata": {
      "application/vnd.databricks.v1+output": {
       "addedWidgets": {},
       "aggData": [],
       "aggError": "",
       "aggOverflow": false,
       "aggSchema": [],
       "aggSeriesLimitReached": false,
       "aggType": "",
       "arguments": {},
       "columnCustomDisplayInfos": {},
       "data": [
        [
         1,
         "JohnDoe",
         "john.doe@example.com",
         "2023-12-27",
         "2023-12-27"
        ],
        [
         2,
         "JaneSmith",
         "jane.smith@example.com",
         "2023-12-27",
         "2023-12-27"
        ],
        [
         3,
         "BobJohnson",
         "bob.johnson@example.com",
         "2023-12-27",
         "2023-12-27"
        ]
       ],
       "datasetInfos": [],
       "dbfsResultPath": null,
       "isJsonSchema": true,
       "metadata": {},
       "overflow": false,
       "plotOptions": {
        "customPlotOptions": {},
        "displayType": "table",
        "pivotAggregation": null,
        "pivotColumns": null,
        "xColumns": null,
        "yColumns": null
       },
       "removedWidgets": [],
       "schema": [
        {
         "metadata": "{}",
         "name": "user_id",
         "type": "\"integer\""
        },
        {
         "metadata": "{}",
         "name": "username",
         "type": "\"string\""
        },
        {
         "metadata": "{}",
         "name": "email",
         "type": "\"string\""
        },
        {
         "metadata": "{}",
         "name": "birthdate",
         "type": "\"string\""
        },
        {
         "metadata": "{}",
         "name": "registration_date",
         "type": "\"string\""
        }
       ],
       "type": "table"
      }
     },
     "output_type": "display_data"
    }
   ],
   "source": [
    "display(df)"
   ]
  },
  {
   "cell_type": "code",
   "execution_count": 0,
   "metadata": {
    "application/vnd.databricks.v1+cell": {
     "cellMetadata": {
      "byteLimit": 2048000,
      "rowLimit": 10000
     },
     "inputWidgets": {},
     "nuid": "9619ed20-2614-43ca-9990-56bd54c66065",
     "showTitle": false,
     "title": ""
    }
   },
   "outputs": [],
   "source": [
    "table_name=[]\n",
    "for i in dbutils.fs.ls('/mnt/silver/premData'):\n",
    "    table_name.append(i.name.split('/')[0])"
   ]
  },
  {
   "cell_type": "code",
   "execution_count": 0,
   "metadata": {
    "application/vnd.databricks.v1+cell": {
     "cellMetadata": {
      "byteLimit": 2048000,
      "rowLimit": 10000
     },
     "inputWidgets": {},
     "nuid": "bbdc6619-ab86-499e-9618-50f80f17d8b0",
     "showTitle": false,
     "title": ""
    }
   },
   "outputs": [
    {
     "output_type": "execute_result",
     "data": {
      "text/plain": [
       "['data_10d81911-a69f-4433-a15a-b6e1d4c20a2d_e996d02e-6f33-4b23-a45b-e1256509034f.parquet',\n",
       " 'data_b9f74cd3-7766-43a5-8e10-156fa4e45da7_33491638-45f7-4214-800f-389216c18b2b.parquet']"
      ]
     },
     "execution_count": 10,
     "metadata": {},
     "output_type": "execute_result"
    }
   ],
   "source": [
    "table_name"
   ]
  },
  {
   "cell_type": "code",
   "execution_count": 0,
   "metadata": {
    "application/vnd.databricks.v1+cell": {
     "cellMetadata": {
      "byteLimit": 2048000,
      "rowLimit": 10000
     },
     "inputWidgets": {},
     "nuid": "867d8247-27d6-4cd8-b40d-484e87ca41d2",
     "showTitle": false,
     "title": ""
    }
   },
   "outputs": [
    {
     "output_type": "stream",
     "name": "stdout",
     "output_type": "stream",
     "text": [
      "/mnt/silver/premData/data_10d81911-a69f-4433-a15a-b6e1d4c20a2d_e996d02e-6f33-4b23-a45b-e1256509034f.parquet\n/mnt/silver/premData/data_b9f74cd3-7766-43a5-8e10-156fa4e45da7_33491638-45f7-4214-800f-389216c18b2b.parquet\n"
     ]
    }
   ],
   "source": [
    "for name in table_name:\n",
    "    path = '/mnt/silver/premData/' +name \n",
    "    print(path)\n",
    "    df = spark.read.format('delta').load(path)\n",
    "    \n",
    "    column_names = df.columns\n",
    "\n",
    "    for old_col_name in column_names:\n",
    "        new_col_name = \"\".join([\"_\" + char if char.isupper() and not old_col_name[i - 1].isupper() else char for i, char in enumerate(old_col_name)]).lstrip(\"_\")\n",
    "        df = df.withColumnRenamed(old_col_name, new_col_name)\n",
    "    output_path = '/mnt/gold/premData/' +name+ '/'\n",
    "    df.write.format('delta').mode(\"overwrite\").save(output_path)\n"
   ]
  },
  {
   "cell_type": "code",
   "execution_count": 0,
   "metadata": {
    "application/vnd.databricks.v1+cell": {
     "cellMetadata": {
      "byteLimit": 2048000,
      "rowLimit": 10000
     },
     "inputWidgets": {},
     "nuid": "00d86b44-713a-4968-a86e-03748482560f",
     "showTitle": false,
     "title": ""
    }
   },
   "outputs": [
    {
     "output_type": "display_data",
     "data": {
      "text/html": [
       "<style scoped>\n",
       "  .table-result-container {\n",
       "    max-height: 300px;\n",
       "    overflow: auto;\n",
       "  }\n",
       "  table, th, td {\n",
       "    border: 1px solid black;\n",
       "    border-collapse: collapse;\n",
       "  }\n",
       "  th, td {\n",
       "    padding: 5px;\n",
       "  }\n",
       "  th {\n",
       "    text-align: left;\n",
       "  }\n",
       "</style><div class='table-result-container'><table class='table-result'><thead style='background-color: white'><tr><th>user_id</th><th>username</th><th>email</th><th>birthdate</th><th>registration_date</th></tr></thead><tbody><tr><td>1</td><td>JohnDoe</td><td>john.doe@example.com</td><td>2023-12-27</td><td>2023-12-27</td></tr><tr><td>2</td><td>JaneSmith</td><td>jane.smith@example.com</td><td>2023-12-27</td><td>2023-12-27</td></tr><tr><td>3</td><td>BobJohnson</td><td>bob.johnson@example.com</td><td>2023-12-27</td><td>2023-12-27</td></tr></tbody></table></div>"
      ]
     },
     "metadata": {
      "application/vnd.databricks.v1+output": {
       "addedWidgets": {},
       "aggData": [],
       "aggError": "",
       "aggOverflow": false,
       "aggSchema": [],
       "aggSeriesLimitReached": false,
       "aggType": "",
       "arguments": {},
       "columnCustomDisplayInfos": {},
       "data": [
        [
         1,
         "JohnDoe",
         "john.doe@example.com",
         "2023-12-27",
         "2023-12-27"
        ],
        [
         2,
         "JaneSmith",
         "jane.smith@example.com",
         "2023-12-27",
         "2023-12-27"
        ],
        [
         3,
         "BobJohnson",
         "bob.johnson@example.com",
         "2023-12-27",
         "2023-12-27"
        ]
       ],
       "datasetInfos": [],
       "dbfsResultPath": null,
       "isJsonSchema": true,
       "metadata": {},
       "overflow": false,
       "plotOptions": {
        "customPlotOptions": {},
        "displayType": "table",
        "pivotAggregation": null,
        "pivotColumns": null,
        "xColumns": null,
        "yColumns": null
       },
       "removedWidgets": [],
       "schema": [
        {
         "metadata": "{}",
         "name": "user_id",
         "type": "\"integer\""
        },
        {
         "metadata": "{}",
         "name": "username",
         "type": "\"string\""
        },
        {
         "metadata": "{}",
         "name": "email",
         "type": "\"string\""
        },
        {
         "metadata": "{}",
         "name": "birthdate",
         "type": "\"string\""
        },
        {
         "metadata": "{}",
         "name": "registration_date",
         "type": "\"string\""
        }
       ],
       "type": "table"
      }
     },
     "output_type": "display_data"
    }
   ],
   "source": [
    "display(df)"
   ]
  },
  {
   "cell_type": "code",
   "execution_count": 0,
   "metadata": {
    "application/vnd.databricks.v1+cell": {
     "cellMetadata": {},
     "inputWidgets": {},
     "nuid": "0fad24fe-b66d-4d98-805f-a47189469277",
     "showTitle": false,
     "title": ""
    }
   },
   "outputs": [],
   "source": []
  }
 ],
 "metadata": {
  "application/vnd.databricks.v1+notebook": {
   "dashboards": [],
   "language": "python",
   "notebookMetadata": {
    "pythonIndentUnit": 4
   },
   "notebookName": "silver-to-gold",
   "widgets": {}
  }
 },
 "nbformat": 4,
 "nbformat_minor": 0
}
